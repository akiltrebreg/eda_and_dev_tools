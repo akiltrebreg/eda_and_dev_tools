{
  "nbformat": 4,
  "nbformat_minor": 0,
  "metadata": {
    "colab": {
      "provenance": []
    },
    "kernelspec": {
      "name": "python3",
      "display_name": "Python 3"
    },
    "language_info": {
      "name": "python"
    }
  },
  "cells": [
    {
      "cell_type": "code",
      "execution_count": 1,
      "metadata": {
        "colab": {
          "base_uri": "https://localhost:8080/"
        },
        "id": "LRhxGjS3uB-T",
        "outputId": "d46c1177-73f6-41a1-db69-67612fe15e72"
      },
      "outputs": [
        {
          "output_type": "stream",
          "name": "stdout",
          "text": [
            "1.5.3\n"
          ]
        }
      ],
      "source": [
        "import pandas as pd\n",
        "\n",
        "print(pd.__version__)"
      ]
    },
    {
      "cell_type": "code",
      "source": [
        "import polars as pl\n",
        "\n",
        "print(pl.__version__)"
      ],
      "metadata": {
        "colab": {
          "base_uri": "https://localhost:8080/"
        },
        "id": "RpA1Rtn-8kwX",
        "outputId": "4010c7cc-3020-4211-99fe-1998a6c507dd"
      },
      "execution_count": 2,
      "outputs": [
        {
          "output_type": "stream",
          "name": "stdout",
          "text": [
            "0.17.3\n"
          ]
        }
      ]
    },
    {
      "cell_type": "code",
      "source": [
        "df = pd.read_csv('/content/drive/MyDrive/abalone.csv')"
      ],
      "metadata": {
        "id": "f0T7sDyZ8kzJ"
      },
      "execution_count": 3,
      "outputs": []
    },
    {
      "cell_type": "code",
      "source": [
        "df_big = df.copy()\n",
        "\n",
        "for i in range(240):\n",
        "  df_big = pd.concat([df_big, df])\n",
        "\n",
        "df_big.to_csv(\"abalone_big.csv\", index=False)"
      ],
      "metadata": {
        "id": "HehAeiiG-wRf"
      },
      "execution_count": 4,
      "outputs": []
    },
    {
      "cell_type": "code",
      "source": [
        "df_big.shape, df.shape"
      ],
      "metadata": {
        "colab": {
          "base_uri": "https://localhost:8080/"
        },
        "id": "pP9VZAEL_NTR",
        "outputId": "c2480aa1-67f0-460c-f20f-08a16a83b28c"
      },
      "execution_count": 5,
      "outputs": [
        {
          "output_type": "execute_result",
          "data": {
            "text/plain": [
              "((1006657, 9), (4177, 9))"
            ]
          },
          "metadata": {},
          "execution_count": 5
        }
      ]
    },
    {
      "cell_type": "markdown",
      "source": [
        "**Загрузка данных.**"
      ],
      "metadata": {
        "id": "PgyIoFg-_cma"
      }
    },
    {
      "cell_type": "code",
      "source": [
        "# Polars\n",
        "%%time\n",
        "\n",
        "df_pl = pl.read_csv(\"abalone_big.csv\")"
      ],
      "metadata": {
        "colab": {
          "base_uri": "https://localhost:8080/"
        },
        "id": "HetG02oN-EDw",
        "outputId": "53a4a4fb-deb0-4161-f7c3-05865eb025da"
      },
      "execution_count": 6,
      "outputs": [
        {
          "output_type": "stream",
          "name": "stdout",
          "text": [
            "CPU times: user 721 ms, sys: 116 ms, total: 837 ms\n",
            "Wall time: 595 ms\n"
          ]
        }
      ]
    },
    {
      "cell_type": "code",
      "source": [
        "# Pandas\n",
        "%%time\n",
        "\n",
        "df_pd = pd.read_csv(\"abalone_big.csv\")"
      ],
      "metadata": {
        "colab": {
          "base_uri": "https://localhost:8080/"
        },
        "id": "Q1kjjes58k1y",
        "outputId": "7e183163-6df5-43e5-b266-9529e80cb0f2"
      },
      "execution_count": 7,
      "outputs": [
        {
          "output_type": "stream",
          "name": "stdout",
          "text": [
            "CPU times: user 1.15 s, sys: 79.8 ms, total: 1.23 s\n",
            "Wall time: 1.29 s\n"
          ]
        }
      ]
    },
    {
      "cell_type": "markdown",
      "source": [
        "Polars быстрее, чем Pandas, в 2.2 раза."
      ],
      "metadata": {
        "id": "3zTgsjou_i8N"
      }
    },
    {
      "cell_type": "markdown",
      "source": [
        "**Фильтрация данных.**"
      ],
      "metadata": {
        "id": "ceNy1iak_1Sa"
      }
    },
    {
      "cell_type": "code",
      "source": [
        "# Polars\n",
        "%%time\n",
        "\n",
        "df_pl[['shell_weight', 'age']]"
      ],
      "metadata": {
        "colab": {
          "base_uri": "https://localhost:8080/",
          "height": 916
        },
        "id": "pM1KPcvbAUIh",
        "outputId": "cc0e438a-d3e4-4678-b009-11f3961d04e1"
      },
      "execution_count": 14,
      "outputs": [
        {
          "output_type": "stream",
          "name": "stdout",
          "text": [
            "CPU times: user 981 µs, sys: 0 ns, total: 981 µs\n",
            "Wall time: 1 ms\n"
          ]
        },
        {
          "output_type": "execute_result",
          "data": {
            "text/plain": [
              "shape: (1_006_657, 2)\n",
              "┌──────────────┬──────┐\n",
              "│ shell_weight ┆ age  │\n",
              "│ ---          ┆ ---  │\n",
              "│ f64          ┆ f64  │\n",
              "╞══════════════╪══════╡\n",
              "│ 0.15         ┆ 16.5 │\n",
              "│ 0.07         ┆ 8.5  │\n",
              "│ 0.21         ┆ 10.5 │\n",
              "│ 0.155        ┆ 11.5 │\n",
              "│ …            ┆ …    │\n",
              "│ 0.2605       ┆ 11.5 │\n",
              "│ 0.308        ┆ 10.5 │\n",
              "│ 0.296        ┆ 11.5 │\n",
              "│ 0.495        ┆ 13.5 │\n",
              "└──────────────┴──────┘"
            ],
            "text/html": [
              "<div><style>\n",
              ".dataframe > thead > tr > th,\n",
              ".dataframe > tbody > tr > td {\n",
              "  text-align: right;\n",
              "}\n",
              "</style>\n",
              "<small>shape: (1006657, 2)</small><table border=\"1\" class=\"dataframe\"><thead><tr><th>shell_weight</th><th>age</th></tr><tr><td>f64</td><td>f64</td></tr></thead><tbody><tr><td>0.15</td><td>16.5</td></tr><tr><td>0.07</td><td>8.5</td></tr><tr><td>0.21</td><td>10.5</td></tr><tr><td>0.155</td><td>11.5</td></tr><tr><td>0.055</td><td>8.5</td></tr><tr><td>0.12</td><td>9.5</td></tr><tr><td>0.33</td><td>21.5</td></tr><tr><td>0.26</td><td>17.5</td></tr><tr><td>0.165</td><td>10.5</td></tr><tr><td>0.32</td><td>20.5</td></tr><tr><td>0.21</td><td>15.5</td></tr><tr><td>0.135</td><td>11.5</td></tr><tr><td>&hellip;</td><td>&hellip;</td></tr><tr><td>0.088</td><td>8.5</td></tr><tr><td>0.156</td><td>11.5</td></tr><tr><td>0.1535</td><td>10.5</td></tr><tr><td>0.1765</td><td>9.5</td></tr><tr><td>0.1815</td><td>11.5</td></tr><tr><td>0.2405</td><td>11.5</td></tr><tr><td>0.229</td><td>9.5</td></tr><tr><td>0.249</td><td>12.5</td></tr><tr><td>0.2605</td><td>11.5</td></tr><tr><td>0.308</td><td>10.5</td></tr><tr><td>0.296</td><td>11.5</td></tr><tr><td>0.495</td><td>13.5</td></tr></tbody></table></div>"
            ]
          },
          "metadata": {},
          "execution_count": 14
        }
      ]
    },
    {
      "cell_type": "code",
      "source": [
        "# Pandas\n",
        "%%time\n",
        "\n",
        "df_pd[['shell_weight', 'age']]"
      ],
      "metadata": {
        "colab": {
          "base_uri": "https://localhost:8080/",
          "height": 458
        },
        "id": "GVhjK0wy8k4q",
        "outputId": "43224f08-60f2-43ba-a3dd-4cd2f0033272"
      },
      "execution_count": 15,
      "outputs": [
        {
          "output_type": "stream",
          "name": "stdout",
          "text": [
            "CPU times: user 11.6 ms, sys: 9.99 ms, total: 21.6 ms\n",
            "Wall time: 23.3 ms\n"
          ]
        },
        {
          "output_type": "execute_result",
          "data": {
            "text/plain": [
              "         shell_weight   age\n",
              "0              0.1500  16.5\n",
              "1              0.0700   8.5\n",
              "2              0.2100  10.5\n",
              "3              0.1550  11.5\n",
              "4              0.0550   8.5\n",
              "...               ...   ...\n",
              "1006652        0.2490  12.5\n",
              "1006653        0.2605  11.5\n",
              "1006654        0.3080  10.5\n",
              "1006655        0.2960  11.5\n",
              "1006656        0.4950  13.5\n",
              "\n",
              "[1006657 rows x 2 columns]"
            ],
            "text/html": [
              "\n",
              "\n",
              "  <div id=\"df-7eb33770-1493-47e2-9ec0-d2eb3860f792\">\n",
              "    <div class=\"colab-df-container\">\n",
              "      <div>\n",
              "<style scoped>\n",
              "    .dataframe tbody tr th:only-of-type {\n",
              "        vertical-align: middle;\n",
              "    }\n",
              "\n",
              "    .dataframe tbody tr th {\n",
              "        vertical-align: top;\n",
              "    }\n",
              "\n",
              "    .dataframe thead th {\n",
              "        text-align: right;\n",
              "    }\n",
              "</style>\n",
              "<table border=\"1\" class=\"dataframe\">\n",
              "  <thead>\n",
              "    <tr style=\"text-align: right;\">\n",
              "      <th></th>\n",
              "      <th>shell_weight</th>\n",
              "      <th>age</th>\n",
              "    </tr>\n",
              "  </thead>\n",
              "  <tbody>\n",
              "    <tr>\n",
              "      <th>0</th>\n",
              "      <td>0.1500</td>\n",
              "      <td>16.5</td>\n",
              "    </tr>\n",
              "    <tr>\n",
              "      <th>1</th>\n",
              "      <td>0.0700</td>\n",
              "      <td>8.5</td>\n",
              "    </tr>\n",
              "    <tr>\n",
              "      <th>2</th>\n",
              "      <td>0.2100</td>\n",
              "      <td>10.5</td>\n",
              "    </tr>\n",
              "    <tr>\n",
              "      <th>3</th>\n",
              "      <td>0.1550</td>\n",
              "      <td>11.5</td>\n",
              "    </tr>\n",
              "    <tr>\n",
              "      <th>4</th>\n",
              "      <td>0.0550</td>\n",
              "      <td>8.5</td>\n",
              "    </tr>\n",
              "    <tr>\n",
              "      <th>...</th>\n",
              "      <td>...</td>\n",
              "      <td>...</td>\n",
              "    </tr>\n",
              "    <tr>\n",
              "      <th>1006652</th>\n",
              "      <td>0.2490</td>\n",
              "      <td>12.5</td>\n",
              "    </tr>\n",
              "    <tr>\n",
              "      <th>1006653</th>\n",
              "      <td>0.2605</td>\n",
              "      <td>11.5</td>\n",
              "    </tr>\n",
              "    <tr>\n",
              "      <th>1006654</th>\n",
              "      <td>0.3080</td>\n",
              "      <td>10.5</td>\n",
              "    </tr>\n",
              "    <tr>\n",
              "      <th>1006655</th>\n",
              "      <td>0.2960</td>\n",
              "      <td>11.5</td>\n",
              "    </tr>\n",
              "    <tr>\n",
              "      <th>1006656</th>\n",
              "      <td>0.4950</td>\n",
              "      <td>13.5</td>\n",
              "    </tr>\n",
              "  </tbody>\n",
              "</table>\n",
              "<p>1006657 rows × 2 columns</p>\n",
              "</div>\n",
              "      <button class=\"colab-df-convert\" onclick=\"convertToInteractive('df-7eb33770-1493-47e2-9ec0-d2eb3860f792')\"\n",
              "              title=\"Convert this dataframe to an interactive table.\"\n",
              "              style=\"display:none;\">\n",
              "\n",
              "  <svg xmlns=\"http://www.w3.org/2000/svg\" height=\"24px\"viewBox=\"0 0 24 24\"\n",
              "       width=\"24px\">\n",
              "    <path d=\"M0 0h24v24H0V0z\" fill=\"none\"/>\n",
              "    <path d=\"M18.56 5.44l.94 2.06.94-2.06 2.06-.94-2.06-.94-.94-2.06-.94 2.06-2.06.94zm-11 1L8.5 8.5l.94-2.06 2.06-.94-2.06-.94L8.5 2.5l-.94 2.06-2.06.94zm10 10l.94 2.06.94-2.06 2.06-.94-2.06-.94-.94-2.06-.94 2.06-2.06.94z\"/><path d=\"M17.41 7.96l-1.37-1.37c-.4-.4-.92-.59-1.43-.59-.52 0-1.04.2-1.43.59L10.3 9.45l-7.72 7.72c-.78.78-.78 2.05 0 2.83L4 21.41c.39.39.9.59 1.41.59.51 0 1.02-.2 1.41-.59l7.78-7.78 2.81-2.81c.8-.78.8-2.07 0-2.86zM5.41 20L4 18.59l7.72-7.72 1.47 1.35L5.41 20z\"/>\n",
              "  </svg>\n",
              "      </button>\n",
              "\n",
              "\n",
              "\n",
              "    <div id=\"df-63247bab-aefa-48b9-a202-fdfb3eb474f1\">\n",
              "      <button class=\"colab-df-quickchart\" onclick=\"quickchart('df-63247bab-aefa-48b9-a202-fdfb3eb474f1')\"\n",
              "              title=\"Suggest charts.\"\n",
              "              style=\"display:none;\">\n",
              "\n",
              "<svg xmlns=\"http://www.w3.org/2000/svg\" height=\"24px\"viewBox=\"0 0 24 24\"\n",
              "     width=\"24px\">\n",
              "    <g>\n",
              "        <path d=\"M19 3H5c-1.1 0-2 .9-2 2v14c0 1.1.9 2 2 2h14c1.1 0 2-.9 2-2V5c0-1.1-.9-2-2-2zM9 17H7v-7h2v7zm4 0h-2V7h2v10zm4 0h-2v-4h2v4z\"/>\n",
              "    </g>\n",
              "</svg>\n",
              "      </button>\n",
              "    </div>\n",
              "\n",
              "<style>\n",
              "  .colab-df-quickchart {\n",
              "    background-color: #E8F0FE;\n",
              "    border: none;\n",
              "    border-radius: 50%;\n",
              "    cursor: pointer;\n",
              "    display: none;\n",
              "    fill: #1967D2;\n",
              "    height: 32px;\n",
              "    padding: 0 0 0 0;\n",
              "    width: 32px;\n",
              "  }\n",
              "\n",
              "  .colab-df-quickchart:hover {\n",
              "    background-color: #E2EBFA;\n",
              "    box-shadow: 0px 1px 2px rgba(60, 64, 67, 0.3), 0px 1px 3px 1px rgba(60, 64, 67, 0.15);\n",
              "    fill: #174EA6;\n",
              "  }\n",
              "\n",
              "  [theme=dark] .colab-df-quickchart {\n",
              "    background-color: #3B4455;\n",
              "    fill: #D2E3FC;\n",
              "  }\n",
              "\n",
              "  [theme=dark] .colab-df-quickchart:hover {\n",
              "    background-color: #434B5C;\n",
              "    box-shadow: 0px 1px 3px 1px rgba(0, 0, 0, 0.15);\n",
              "    filter: drop-shadow(0px 1px 2px rgba(0, 0, 0, 0.3));\n",
              "    fill: #FFFFFF;\n",
              "  }\n",
              "</style>\n",
              "\n",
              "    <script>\n",
              "      async function quickchart(key) {\n",
              "        const containerElement = document.querySelector('#' + key);\n",
              "        const charts = await google.colab.kernel.invokeFunction(\n",
              "            'suggestCharts', [key], {});\n",
              "      }\n",
              "    </script>\n",
              "\n",
              "      <script>\n",
              "\n",
              "function displayQuickchartButton(domScope) {\n",
              "  let quickchartButtonEl =\n",
              "    domScope.querySelector('#df-63247bab-aefa-48b9-a202-fdfb3eb474f1 button.colab-df-quickchart');\n",
              "  quickchartButtonEl.style.display =\n",
              "    google.colab.kernel.accessAllowed ? 'block' : 'none';\n",
              "}\n",
              "\n",
              "        displayQuickchartButton(document);\n",
              "      </script>\n",
              "      <style>\n",
              "    .colab-df-container {\n",
              "      display:flex;\n",
              "      flex-wrap:wrap;\n",
              "      gap: 12px;\n",
              "    }\n",
              "\n",
              "    .colab-df-convert {\n",
              "      background-color: #E8F0FE;\n",
              "      border: none;\n",
              "      border-radius: 50%;\n",
              "      cursor: pointer;\n",
              "      display: none;\n",
              "      fill: #1967D2;\n",
              "      height: 32px;\n",
              "      padding: 0 0 0 0;\n",
              "      width: 32px;\n",
              "    }\n",
              "\n",
              "    .colab-df-convert:hover {\n",
              "      background-color: #E2EBFA;\n",
              "      box-shadow: 0px 1px 2px rgba(60, 64, 67, 0.3), 0px 1px 3px 1px rgba(60, 64, 67, 0.15);\n",
              "      fill: #174EA6;\n",
              "    }\n",
              "\n",
              "    [theme=dark] .colab-df-convert {\n",
              "      background-color: #3B4455;\n",
              "      fill: #D2E3FC;\n",
              "    }\n",
              "\n",
              "    [theme=dark] .colab-df-convert:hover {\n",
              "      background-color: #434B5C;\n",
              "      box-shadow: 0px 1px 3px 1px rgba(0, 0, 0, 0.15);\n",
              "      filter: drop-shadow(0px 1px 2px rgba(0, 0, 0, 0.3));\n",
              "      fill: #FFFFFF;\n",
              "    }\n",
              "  </style>\n",
              "\n",
              "      <script>\n",
              "        const buttonEl =\n",
              "          document.querySelector('#df-7eb33770-1493-47e2-9ec0-d2eb3860f792 button.colab-df-convert');\n",
              "        buttonEl.style.display =\n",
              "          google.colab.kernel.accessAllowed ? 'block' : 'none';\n",
              "\n",
              "        async function convertToInteractive(key) {\n",
              "          const element = document.querySelector('#df-7eb33770-1493-47e2-9ec0-d2eb3860f792');\n",
              "          const dataTable =\n",
              "            await google.colab.kernel.invokeFunction('convertToInteractive',\n",
              "                                                     [key], {});\n",
              "          if (!dataTable) return;\n",
              "\n",
              "          const docLinkHtml = 'Like what you see? Visit the ' +\n",
              "            '<a target=\"_blank\" href=https://colab.research.google.com/notebooks/data_table.ipynb>data table notebook</a>'\n",
              "            + ' to learn more about interactive tables.';\n",
              "          element.innerHTML = '';\n",
              "          dataTable['output_type'] = 'display_data';\n",
              "          await google.colab.output.renderOutput(dataTable, element);\n",
              "          const docLink = document.createElement('div');\n",
              "          docLink.innerHTML = docLinkHtml;\n",
              "          element.appendChild(docLink);\n",
              "        }\n",
              "      </script>\n",
              "    </div>\n",
              "  </div>\n"
            ]
          },
          "metadata": {},
          "execution_count": 15
        }
      ]
    },
    {
      "cell_type": "markdown",
      "source": [
        "Polars быстрее, чем Pandas, в 23 раза."
      ],
      "metadata": {
        "id": "HBItaEaHAq_p"
      }
    },
    {
      "cell_type": "code",
      "source": [
        "# Polars\n",
        "%%time\n",
        "\n",
        "df_pl.filter((pl.col('age') > 5) & (pl.col('whole_weight') < 0.3))"
      ],
      "metadata": {
        "colab": {
          "base_uri": "https://localhost:8080/",
          "height": 916
        },
        "id": "-eoc1H8rA4Je",
        "outputId": "84dcdf62-5c5a-43a8-b7f8-f23604a10a57"
      },
      "execution_count": 10,
      "outputs": [
        {
          "output_type": "stream",
          "name": "stdout",
          "text": [
            "CPU times: user 18.7 ms, sys: 4.59 ms, total: 23.3 ms\n",
            "Wall time: 18.9 ms\n"
          ]
        },
        {
          "output_type": "execute_result",
          "data": {
            "text/plain": [
              "shape: (153_035, 9)\n",
              "┌─────┬────────┬──────────┬────────┬───┬────────────────┬────────────────┬──────────────┬─────┐\n",
              "│ sex ┆ length ┆ diameter ┆ height ┆ … ┆ shucked_weight ┆ viscera_weight ┆ shell_weight ┆ age │\n",
              "│ --- ┆ ---    ┆ ---      ┆ ---    ┆   ┆ ---            ┆ ---            ┆ ---          ┆ --- │\n",
              "│ str ┆ f64    ┆ f64      ┆ f64    ┆   ┆ f64            ┆ f64            ┆ f64          ┆ f64 │\n",
              "╞═════╪════════╪══════════╪════════╪═══╪════════════════╪════════════════╪══════════════╪═════╡\n",
              "│ M   ┆ 0.35   ┆ 0.265    ┆ 0.09   ┆ … ┆ 0.0995         ┆ 0.0485         ┆ 0.07         ┆ 8.5 │\n",
              "│ I   ┆ 0.33   ┆ 0.255    ┆ 0.08   ┆ … ┆ 0.0895         ┆ 0.0395         ┆ 0.055        ┆ 8.5 │\n",
              "│ I   ┆ 0.355  ┆ 0.28     ┆ 0.085  ┆ … ┆ 0.095          ┆ 0.0395         ┆ 0.115        ┆ 8.5 │\n",
              "│ M   ┆ 0.365  ┆ 0.295    ┆ 0.08   ┆ … ┆ 0.097          ┆ 0.043          ┆ 0.1          ┆ 8.5 │\n",
              "│ …   ┆ …      ┆ …        ┆ …      ┆ … ┆ …              ┆ …              ┆ …            ┆ …   │\n",
              "│ I   ┆ 0.33   ┆ 0.23     ┆ 0.08   ┆ … ┆ 0.0565         ┆ 0.0365         ┆ 0.046        ┆ 8.5 │\n",
              "│ I   ┆ 0.35   ┆ 0.25     ┆ 0.075  ┆ … ┆ 0.0835         ┆ 0.0355         ┆ 0.041        ┆ 7.5 │\n",
              "│ I   ┆ 0.37   ┆ 0.28     ┆ 0.09   ┆ … ┆ 0.0995         ┆ 0.0545         ┆ 0.0615       ┆ 8.5 │\n",
              "│ I   ┆ 0.39   ┆ 0.29     ┆ 0.1    ┆ … ┆ 0.1255         ┆ 0.0635         ┆ 0.235        ┆ 8.5 │\n",
              "└─────┴────────┴──────────┴────────┴───┴────────────────┴────────────────┴──────────────┴─────┘"
            ],
            "text/html": [
              "<div><style>\n",
              ".dataframe > thead > tr > th,\n",
              ".dataframe > tbody > tr > td {\n",
              "  text-align: right;\n",
              "}\n",
              "</style>\n",
              "<small>shape: (153035, 9)</small><table border=\"1\" class=\"dataframe\"><thead><tr><th>sex</th><th>length</th><th>diameter</th><th>height</th><th>whole_weight</th><th>shucked_weight</th><th>viscera_weight</th><th>shell_weight</th><th>age</th></tr><tr><td>str</td><td>f64</td><td>f64</td><td>f64</td><td>f64</td><td>f64</td><td>f64</td><td>f64</td><td>f64</td></tr></thead><tbody><tr><td>&quot;M&quot;</td><td>0.35</td><td>0.265</td><td>0.09</td><td>0.2255</td><td>0.0995</td><td>0.0485</td><td>0.07</td><td>8.5</td></tr><tr><td>&quot;I&quot;</td><td>0.33</td><td>0.255</td><td>0.08</td><td>0.205</td><td>0.0895</td><td>0.0395</td><td>0.055</td><td>8.5</td></tr><tr><td>&quot;I&quot;</td><td>0.355</td><td>0.28</td><td>0.085</td><td>0.2905</td><td>0.095</td><td>0.0395</td><td>0.115</td><td>8.5</td></tr><tr><td>&quot;M&quot;</td><td>0.365</td><td>0.295</td><td>0.08</td><td>0.2555</td><td>0.097</td><td>0.043</td><td>0.1</td><td>8.5</td></tr><tr><td>&quot;M&quot;</td><td>0.355</td><td>0.28</td><td>0.095</td><td>0.2455</td><td>0.0955</td><td>0.062</td><td>0.075</td><td>12.5</td></tr><tr><td>&quot;I&quot;</td><td>0.38</td><td>0.275</td><td>0.1</td><td>0.2255</td><td>0.08</td><td>0.049</td><td>0.085</td><td>11.5</td></tr><tr><td>&quot;I&quot;</td><td>0.24</td><td>0.175</td><td>0.045</td><td>0.07</td><td>0.0315</td><td>0.0235</td><td>0.02</td><td>6.5</td></tr><tr><td>&quot;I&quot;</td><td>0.21</td><td>0.15</td><td>0.05</td><td>0.042</td><td>0.0175</td><td>0.0125</td><td>0.015</td><td>5.5</td></tr><tr><td>&quot;I&quot;</td><td>0.39</td><td>0.295</td><td>0.095</td><td>0.203</td><td>0.0875</td><td>0.045</td><td>0.075</td><td>8.5</td></tr><tr><td>&quot;I&quot;</td><td>0.325</td><td>0.245</td><td>0.07</td><td>0.161</td><td>0.0755</td><td>0.0255</td><td>0.045</td><td>7.5</td></tr><tr><td>&quot;I&quot;</td><td>0.245</td><td>0.19</td><td>0.06</td><td>0.086</td><td>0.042</td><td>0.014</td><td>0.025</td><td>5.5</td></tr><tr><td>&quot;I&quot;</td><td>0.31</td><td>0.235</td><td>0.07</td><td>0.151</td><td>0.063</td><td>0.0405</td><td>0.045</td><td>7.5</td></tr><tr><td>&hellip;</td><td>&hellip;</td><td>&hellip;</td><td>&hellip;</td><td>&hellip;</td><td>&hellip;</td><td>&hellip;</td><td>&hellip;</td><td>&hellip;</td></tr><tr><td>&quot;I&quot;</td><td>0.365</td><td>0.28</td><td>0.09</td><td>0.196</td><td>0.0865</td><td>0.036</td><td>0.0605</td><td>8.5</td></tr><tr><td>&quot;I&quot;</td><td>0.365</td><td>0.27</td><td>0.09</td><td>0.2155</td><td>0.1005</td><td>0.049</td><td>0.0655</td><td>7.5</td></tr><tr><td>&quot;I&quot;</td><td>0.42</td><td>0.31</td><td>0.1</td><td>0.2805</td><td>0.1125</td><td>0.0615</td><td>0.0925</td><td>9.5</td></tr><tr><td>&quot;I&quot;</td><td>0.37</td><td>0.275</td><td>0.08</td><td>0.2325</td><td>0.093</td><td>0.056</td><td>0.072</td><td>7.5</td></tr><tr><td>&quot;I&quot;</td><td>0.41</td><td>0.305</td><td>0.1</td><td>0.2645</td><td>0.1</td><td>0.0655</td><td>0.085</td><td>8.5</td></tr><tr><td>&quot;I&quot;</td><td>0.3</td><td>0.425</td><td>0.05</td><td>0.1185</td><td>0.048</td><td>0.0225</td><td>0.042</td><td>5.5</td></tr><tr><td>&quot;M&quot;</td><td>0.35</td><td>0.265</td><td>0.09</td><td>0.197</td><td>0.073</td><td>0.0365</td><td>0.077</td><td>8.5</td></tr><tr><td>&quot;I&quot;</td><td>0.28</td><td>0.215</td><td>0.07</td><td>0.124</td><td>0.063</td><td>0.0215</td><td>0.03</td><td>7.5</td></tr><tr><td>&quot;I&quot;</td><td>0.33</td><td>0.23</td><td>0.08</td><td>0.14</td><td>0.0565</td><td>0.0365</td><td>0.046</td><td>8.5</td></tr><tr><td>&quot;I&quot;</td><td>0.35</td><td>0.25</td><td>0.075</td><td>0.1695</td><td>0.0835</td><td>0.0355</td><td>0.041</td><td>7.5</td></tr><tr><td>&quot;I&quot;</td><td>0.37</td><td>0.28</td><td>0.09</td><td>0.218</td><td>0.0995</td><td>0.0545</td><td>0.0615</td><td>8.5</td></tr><tr><td>&quot;I&quot;</td><td>0.39</td><td>0.29</td><td>0.1</td><td>0.2845</td><td>0.1255</td><td>0.0635</td><td>0.235</td><td>8.5</td></tr></tbody></table></div>"
            ]
          },
          "metadata": {},
          "execution_count": 10
        }
      ]
    },
    {
      "cell_type": "code",
      "source": [
        "%%time\n",
        "df_pd.query('age > 5 & whole_weight < 0.3')"
      ],
      "metadata": {
        "colab": {
          "base_uri": "https://localhost:8080/",
          "height": 458
        },
        "id": "BpXzAY8yAwLD",
        "outputId": "1370cfb5-1188-4af0-f453-f9d5d67ea6f5"
      },
      "execution_count": 11,
      "outputs": [
        {
          "output_type": "stream",
          "name": "stdout",
          "text": [
            "CPU times: user 30.7 ms, sys: 1.69 ms, total: 32.4 ms\n",
            "Wall time: 47.7 ms\n"
          ]
        },
        {
          "output_type": "execute_result",
          "data": {
            "text/plain": [
              "        sex  length  diameter  height  whole_weight  shucked_weight  \\\n",
              "1         M   0.350     0.265   0.090        0.2255          0.0995   \n",
              "4         I   0.330     0.255   0.080        0.2050          0.0895   \n",
              "16        I   0.355     0.280   0.085        0.2905          0.0950   \n",
              "18        M   0.365     0.295   0.080        0.2555          0.0970   \n",
              "20        M   0.355     0.280   0.095        0.2455          0.0955   \n",
              "...      ..     ...       ...     ...           ...             ...   \n",
              "1006629   I   0.280     0.215   0.070        0.1240          0.0630   \n",
              "1006630   I   0.330     0.230   0.080        0.1400          0.0565   \n",
              "1006631   I   0.350     0.250   0.075        0.1695          0.0835   \n",
              "1006632   I   0.370     0.280   0.090        0.2180          0.0995   \n",
              "1006644   I   0.390     0.290   0.100        0.2845          0.1255   \n",
              "\n",
              "         viscera_weight  shell_weight   age  \n",
              "1                0.0485        0.0700   8.5  \n",
              "4                0.0395        0.0550   8.5  \n",
              "16               0.0395        0.1150   8.5  \n",
              "18               0.0430        0.1000   8.5  \n",
              "20               0.0620        0.0750  12.5  \n",
              "...                 ...           ...   ...  \n",
              "1006629          0.0215        0.0300   7.5  \n",
              "1006630          0.0365        0.0460   8.5  \n",
              "1006631          0.0355        0.0410   7.5  \n",
              "1006632          0.0545        0.0615   8.5  \n",
              "1006644          0.0635        0.2350   8.5  \n",
              "\n",
              "[153035 rows x 9 columns]"
            ],
            "text/html": [
              "\n",
              "\n",
              "  <div id=\"df-dec2c6f5-a35c-45a4-9f33-284cdd3591ba\">\n",
              "    <div class=\"colab-df-container\">\n",
              "      <div>\n",
              "<style scoped>\n",
              "    .dataframe tbody tr th:only-of-type {\n",
              "        vertical-align: middle;\n",
              "    }\n",
              "\n",
              "    .dataframe tbody tr th {\n",
              "        vertical-align: top;\n",
              "    }\n",
              "\n",
              "    .dataframe thead th {\n",
              "        text-align: right;\n",
              "    }\n",
              "</style>\n",
              "<table border=\"1\" class=\"dataframe\">\n",
              "  <thead>\n",
              "    <tr style=\"text-align: right;\">\n",
              "      <th></th>\n",
              "      <th>sex</th>\n",
              "      <th>length</th>\n",
              "      <th>diameter</th>\n",
              "      <th>height</th>\n",
              "      <th>whole_weight</th>\n",
              "      <th>shucked_weight</th>\n",
              "      <th>viscera_weight</th>\n",
              "      <th>shell_weight</th>\n",
              "      <th>age</th>\n",
              "    </tr>\n",
              "  </thead>\n",
              "  <tbody>\n",
              "    <tr>\n",
              "      <th>1</th>\n",
              "      <td>M</td>\n",
              "      <td>0.350</td>\n",
              "      <td>0.265</td>\n",
              "      <td>0.090</td>\n",
              "      <td>0.2255</td>\n",
              "      <td>0.0995</td>\n",
              "      <td>0.0485</td>\n",
              "      <td>0.0700</td>\n",
              "      <td>8.5</td>\n",
              "    </tr>\n",
              "    <tr>\n",
              "      <th>4</th>\n",
              "      <td>I</td>\n",
              "      <td>0.330</td>\n",
              "      <td>0.255</td>\n",
              "      <td>0.080</td>\n",
              "      <td>0.2050</td>\n",
              "      <td>0.0895</td>\n",
              "      <td>0.0395</td>\n",
              "      <td>0.0550</td>\n",
              "      <td>8.5</td>\n",
              "    </tr>\n",
              "    <tr>\n",
              "      <th>16</th>\n",
              "      <td>I</td>\n",
              "      <td>0.355</td>\n",
              "      <td>0.280</td>\n",
              "      <td>0.085</td>\n",
              "      <td>0.2905</td>\n",
              "      <td>0.0950</td>\n",
              "      <td>0.0395</td>\n",
              "      <td>0.1150</td>\n",
              "      <td>8.5</td>\n",
              "    </tr>\n",
              "    <tr>\n",
              "      <th>18</th>\n",
              "      <td>M</td>\n",
              "      <td>0.365</td>\n",
              "      <td>0.295</td>\n",
              "      <td>0.080</td>\n",
              "      <td>0.2555</td>\n",
              "      <td>0.0970</td>\n",
              "      <td>0.0430</td>\n",
              "      <td>0.1000</td>\n",
              "      <td>8.5</td>\n",
              "    </tr>\n",
              "    <tr>\n",
              "      <th>20</th>\n",
              "      <td>M</td>\n",
              "      <td>0.355</td>\n",
              "      <td>0.280</td>\n",
              "      <td>0.095</td>\n",
              "      <td>0.2455</td>\n",
              "      <td>0.0955</td>\n",
              "      <td>0.0620</td>\n",
              "      <td>0.0750</td>\n",
              "      <td>12.5</td>\n",
              "    </tr>\n",
              "    <tr>\n",
              "      <th>...</th>\n",
              "      <td>...</td>\n",
              "      <td>...</td>\n",
              "      <td>...</td>\n",
              "      <td>...</td>\n",
              "      <td>...</td>\n",
              "      <td>...</td>\n",
              "      <td>...</td>\n",
              "      <td>...</td>\n",
              "      <td>...</td>\n",
              "    </tr>\n",
              "    <tr>\n",
              "      <th>1006629</th>\n",
              "      <td>I</td>\n",
              "      <td>0.280</td>\n",
              "      <td>0.215</td>\n",
              "      <td>0.070</td>\n",
              "      <td>0.1240</td>\n",
              "      <td>0.0630</td>\n",
              "      <td>0.0215</td>\n",
              "      <td>0.0300</td>\n",
              "      <td>7.5</td>\n",
              "    </tr>\n",
              "    <tr>\n",
              "      <th>1006630</th>\n",
              "      <td>I</td>\n",
              "      <td>0.330</td>\n",
              "      <td>0.230</td>\n",
              "      <td>0.080</td>\n",
              "      <td>0.1400</td>\n",
              "      <td>0.0565</td>\n",
              "      <td>0.0365</td>\n",
              "      <td>0.0460</td>\n",
              "      <td>8.5</td>\n",
              "    </tr>\n",
              "    <tr>\n",
              "      <th>1006631</th>\n",
              "      <td>I</td>\n",
              "      <td>0.350</td>\n",
              "      <td>0.250</td>\n",
              "      <td>0.075</td>\n",
              "      <td>0.1695</td>\n",
              "      <td>0.0835</td>\n",
              "      <td>0.0355</td>\n",
              "      <td>0.0410</td>\n",
              "      <td>7.5</td>\n",
              "    </tr>\n",
              "    <tr>\n",
              "      <th>1006632</th>\n",
              "      <td>I</td>\n",
              "      <td>0.370</td>\n",
              "      <td>0.280</td>\n",
              "      <td>0.090</td>\n",
              "      <td>0.2180</td>\n",
              "      <td>0.0995</td>\n",
              "      <td>0.0545</td>\n",
              "      <td>0.0615</td>\n",
              "      <td>8.5</td>\n",
              "    </tr>\n",
              "    <tr>\n",
              "      <th>1006644</th>\n",
              "      <td>I</td>\n",
              "      <td>0.390</td>\n",
              "      <td>0.290</td>\n",
              "      <td>0.100</td>\n",
              "      <td>0.2845</td>\n",
              "      <td>0.1255</td>\n",
              "      <td>0.0635</td>\n",
              "      <td>0.2350</td>\n",
              "      <td>8.5</td>\n",
              "    </tr>\n",
              "  </tbody>\n",
              "</table>\n",
              "<p>153035 rows × 9 columns</p>\n",
              "</div>\n",
              "      <button class=\"colab-df-convert\" onclick=\"convertToInteractive('df-dec2c6f5-a35c-45a4-9f33-284cdd3591ba')\"\n",
              "              title=\"Convert this dataframe to an interactive table.\"\n",
              "              style=\"display:none;\">\n",
              "\n",
              "  <svg xmlns=\"http://www.w3.org/2000/svg\" height=\"24px\"viewBox=\"0 0 24 24\"\n",
              "       width=\"24px\">\n",
              "    <path d=\"M0 0h24v24H0V0z\" fill=\"none\"/>\n",
              "    <path d=\"M18.56 5.44l.94 2.06.94-2.06 2.06-.94-2.06-.94-.94-2.06-.94 2.06-2.06.94zm-11 1L8.5 8.5l.94-2.06 2.06-.94-2.06-.94L8.5 2.5l-.94 2.06-2.06.94zm10 10l.94 2.06.94-2.06 2.06-.94-2.06-.94-.94-2.06-.94 2.06-2.06.94z\"/><path d=\"M17.41 7.96l-1.37-1.37c-.4-.4-.92-.59-1.43-.59-.52 0-1.04.2-1.43.59L10.3 9.45l-7.72 7.72c-.78.78-.78 2.05 0 2.83L4 21.41c.39.39.9.59 1.41.59.51 0 1.02-.2 1.41-.59l7.78-7.78 2.81-2.81c.8-.78.8-2.07 0-2.86zM5.41 20L4 18.59l7.72-7.72 1.47 1.35L5.41 20z\"/>\n",
              "  </svg>\n",
              "      </button>\n",
              "\n",
              "\n",
              "\n",
              "    <div id=\"df-7e4b6854-1029-4dac-9825-0d9ce17d8da7\">\n",
              "      <button class=\"colab-df-quickchart\" onclick=\"quickchart('df-7e4b6854-1029-4dac-9825-0d9ce17d8da7')\"\n",
              "              title=\"Suggest charts.\"\n",
              "              style=\"display:none;\">\n",
              "\n",
              "<svg xmlns=\"http://www.w3.org/2000/svg\" height=\"24px\"viewBox=\"0 0 24 24\"\n",
              "     width=\"24px\">\n",
              "    <g>\n",
              "        <path d=\"M19 3H5c-1.1 0-2 .9-2 2v14c0 1.1.9 2 2 2h14c1.1 0 2-.9 2-2V5c0-1.1-.9-2-2-2zM9 17H7v-7h2v7zm4 0h-2V7h2v10zm4 0h-2v-4h2v4z\"/>\n",
              "    </g>\n",
              "</svg>\n",
              "      </button>\n",
              "    </div>\n",
              "\n",
              "<style>\n",
              "  .colab-df-quickchart {\n",
              "    background-color: #E8F0FE;\n",
              "    border: none;\n",
              "    border-radius: 50%;\n",
              "    cursor: pointer;\n",
              "    display: none;\n",
              "    fill: #1967D2;\n",
              "    height: 32px;\n",
              "    padding: 0 0 0 0;\n",
              "    width: 32px;\n",
              "  }\n",
              "\n",
              "  .colab-df-quickchart:hover {\n",
              "    background-color: #E2EBFA;\n",
              "    box-shadow: 0px 1px 2px rgba(60, 64, 67, 0.3), 0px 1px 3px 1px rgba(60, 64, 67, 0.15);\n",
              "    fill: #174EA6;\n",
              "  }\n",
              "\n",
              "  [theme=dark] .colab-df-quickchart {\n",
              "    background-color: #3B4455;\n",
              "    fill: #D2E3FC;\n",
              "  }\n",
              "\n",
              "  [theme=dark] .colab-df-quickchart:hover {\n",
              "    background-color: #434B5C;\n",
              "    box-shadow: 0px 1px 3px 1px rgba(0, 0, 0, 0.15);\n",
              "    filter: drop-shadow(0px 1px 2px rgba(0, 0, 0, 0.3));\n",
              "    fill: #FFFFFF;\n",
              "  }\n",
              "</style>\n",
              "\n",
              "    <script>\n",
              "      async function quickchart(key) {\n",
              "        const containerElement = document.querySelector('#' + key);\n",
              "        const charts = await google.colab.kernel.invokeFunction(\n",
              "            'suggestCharts', [key], {});\n",
              "      }\n",
              "    </script>\n",
              "\n",
              "      <script>\n",
              "\n",
              "function displayQuickchartButton(domScope) {\n",
              "  let quickchartButtonEl =\n",
              "    domScope.querySelector('#df-7e4b6854-1029-4dac-9825-0d9ce17d8da7 button.colab-df-quickchart');\n",
              "  quickchartButtonEl.style.display =\n",
              "    google.colab.kernel.accessAllowed ? 'block' : 'none';\n",
              "}\n",
              "\n",
              "        displayQuickchartButton(document);\n",
              "      </script>\n",
              "      <style>\n",
              "    .colab-df-container {\n",
              "      display:flex;\n",
              "      flex-wrap:wrap;\n",
              "      gap: 12px;\n",
              "    }\n",
              "\n",
              "    .colab-df-convert {\n",
              "      background-color: #E8F0FE;\n",
              "      border: none;\n",
              "      border-radius: 50%;\n",
              "      cursor: pointer;\n",
              "      display: none;\n",
              "      fill: #1967D2;\n",
              "      height: 32px;\n",
              "      padding: 0 0 0 0;\n",
              "      width: 32px;\n",
              "    }\n",
              "\n",
              "    .colab-df-convert:hover {\n",
              "      background-color: #E2EBFA;\n",
              "      box-shadow: 0px 1px 2px rgba(60, 64, 67, 0.3), 0px 1px 3px 1px rgba(60, 64, 67, 0.15);\n",
              "      fill: #174EA6;\n",
              "    }\n",
              "\n",
              "    [theme=dark] .colab-df-convert {\n",
              "      background-color: #3B4455;\n",
              "      fill: #D2E3FC;\n",
              "    }\n",
              "\n",
              "    [theme=dark] .colab-df-convert:hover {\n",
              "      background-color: #434B5C;\n",
              "      box-shadow: 0px 1px 3px 1px rgba(0, 0, 0, 0.15);\n",
              "      filter: drop-shadow(0px 1px 2px rgba(0, 0, 0, 0.3));\n",
              "      fill: #FFFFFF;\n",
              "    }\n",
              "  </style>\n",
              "\n",
              "      <script>\n",
              "        const buttonEl =\n",
              "          document.querySelector('#df-dec2c6f5-a35c-45a4-9f33-284cdd3591ba button.colab-df-convert');\n",
              "        buttonEl.style.display =\n",
              "          google.colab.kernel.accessAllowed ? 'block' : 'none';\n",
              "\n",
              "        async function convertToInteractive(key) {\n",
              "          const element = document.querySelector('#df-dec2c6f5-a35c-45a4-9f33-284cdd3591ba');\n",
              "          const dataTable =\n",
              "            await google.colab.kernel.invokeFunction('convertToInteractive',\n",
              "                                                     [key], {});\n",
              "          if (!dataTable) return;\n",
              "\n",
              "          const docLinkHtml = 'Like what you see? Visit the ' +\n",
              "            '<a target=\"_blank\" href=https://colab.research.google.com/notebooks/data_table.ipynb>data table notebook</a>'\n",
              "            + ' to learn more about interactive tables.';\n",
              "          element.innerHTML = '';\n",
              "          dataTable['output_type'] = 'display_data';\n",
              "          await google.colab.output.renderOutput(dataTable, element);\n",
              "          const docLink = document.createElement('div');\n",
              "          docLink.innerHTML = docLinkHtml;\n",
              "          element.appendChild(docLink);\n",
              "        }\n",
              "      </script>\n",
              "    </div>\n",
              "  </div>\n"
            ]
          },
          "metadata": {},
          "execution_count": 11
        }
      ]
    },
    {
      "cell_type": "markdown",
      "source": [
        "Polars быстрее, чем Pandas, в 2.5 раза."
      ],
      "metadata": {
        "id": "osNuESmCBL_Z"
      }
    },
    {
      "cell_type": "markdown",
      "source": [
        "**Агреграция данных.**"
      ],
      "metadata": {
        "id": "Jl0VxjeUBwI1"
      }
    },
    {
      "cell_type": "code",
      "source": [
        "# Polars\n",
        "%%time\n",
        "\n",
        "df_pl.groupby('sex').agg([pl.mean('length'), pl.max('shell_weight')])"
      ],
      "metadata": {
        "colab": {
          "base_uri": "https://localhost:8080/",
          "height": 227
        },
        "id": "0VOrZmFfAwOA",
        "outputId": "7c2ed408-af48-45f2-aaa3-6ad2e0d9a876"
      },
      "execution_count": 20,
      "outputs": [
        {
          "output_type": "stream",
          "name": "stdout",
          "text": [
            "CPU times: user 73.7 ms, sys: 0 ns, total: 73.7 ms\n",
            "Wall time: 49.1 ms\n"
          ]
        },
        {
          "output_type": "execute_result",
          "data": {
            "text/plain": [
              "shape: (3, 3)\n",
              "┌─────┬──────────┬──────────────┐\n",
              "│ sex ┆ length   ┆ shell_weight │\n",
              "│ --- ┆ ---      ┆ ---          │\n",
              "│ str ┆ f64      ┆ f64          │\n",
              "╞═════╪══════════╪══════════════╡\n",
              "│ I   ┆ 0.427273 ┆ 0.655        │\n",
              "│ F   ┆ 0.572978 ┆ 1.005        │\n",
              "│ M   ┆ 0.560059 ┆ 0.885        │\n",
              "└─────┴──────────┴──────────────┘"
            ],
            "text/html": [
              "<div><style>\n",
              ".dataframe > thead > tr > th,\n",
              ".dataframe > tbody > tr > td {\n",
              "  text-align: right;\n",
              "}\n",
              "</style>\n",
              "<small>shape: (3, 3)</small><table border=\"1\" class=\"dataframe\"><thead><tr><th>sex</th><th>length</th><th>shell_weight</th></tr><tr><td>str</td><td>f64</td><td>f64</td></tr></thead><tbody><tr><td>&quot;I&quot;</td><td>0.427273</td><td>0.655</td></tr><tr><td>&quot;F&quot;</td><td>0.572978</td><td>1.005</td></tr><tr><td>&quot;M&quot;</td><td>0.560059</td><td>0.885</td></tr></tbody></table></div>"
            ]
          },
          "metadata": {},
          "execution_count": 20
        }
      ]
    },
    {
      "cell_type": "code",
      "source": [
        "# Pandas\n",
        "%%time\n",
        "\n",
        "df.groupby('sex').agg({'length' : 'mean', 'shell_weight' : 'max'})"
      ],
      "metadata": {
        "colab": {
          "base_uri": "https://localhost:8080/",
          "height": 209
        },
        "id": "2CcFQwbmCMZ4",
        "outputId": "50b8f4bb-df76-4192-9e85-b2fba941e678"
      },
      "execution_count": 21,
      "outputs": [
        {
          "output_type": "stream",
          "name": "stdout",
          "text": [
            "CPU times: user 4.92 ms, sys: 0 ns, total: 4.92 ms\n",
            "Wall time: 4.87 ms\n"
          ]
        },
        {
          "output_type": "execute_result",
          "data": {
            "text/plain": [
              "       length  shell_weight\n",
              "sex                        \n",
              "F    0.572978         1.005\n",
              "I    0.427273         0.655\n",
              "M    0.560059         0.885"
            ],
            "text/html": [
              "\n",
              "\n",
              "  <div id=\"df-a7d069b4-5518-440f-864d-678d24847b0c\">\n",
              "    <div class=\"colab-df-container\">\n",
              "      <div>\n",
              "<style scoped>\n",
              "    .dataframe tbody tr th:only-of-type {\n",
              "        vertical-align: middle;\n",
              "    }\n",
              "\n",
              "    .dataframe tbody tr th {\n",
              "        vertical-align: top;\n",
              "    }\n",
              "\n",
              "    .dataframe thead th {\n",
              "        text-align: right;\n",
              "    }\n",
              "</style>\n",
              "<table border=\"1\" class=\"dataframe\">\n",
              "  <thead>\n",
              "    <tr style=\"text-align: right;\">\n",
              "      <th></th>\n",
              "      <th>length</th>\n",
              "      <th>shell_weight</th>\n",
              "    </tr>\n",
              "    <tr>\n",
              "      <th>sex</th>\n",
              "      <th></th>\n",
              "      <th></th>\n",
              "    </tr>\n",
              "  </thead>\n",
              "  <tbody>\n",
              "    <tr>\n",
              "      <th>F</th>\n",
              "      <td>0.572978</td>\n",
              "      <td>1.005</td>\n",
              "    </tr>\n",
              "    <tr>\n",
              "      <th>I</th>\n",
              "      <td>0.427273</td>\n",
              "      <td>0.655</td>\n",
              "    </tr>\n",
              "    <tr>\n",
              "      <th>M</th>\n",
              "      <td>0.560059</td>\n",
              "      <td>0.885</td>\n",
              "    </tr>\n",
              "  </tbody>\n",
              "</table>\n",
              "</div>\n",
              "      <button class=\"colab-df-convert\" onclick=\"convertToInteractive('df-a7d069b4-5518-440f-864d-678d24847b0c')\"\n",
              "              title=\"Convert this dataframe to an interactive table.\"\n",
              "              style=\"display:none;\">\n",
              "\n",
              "  <svg xmlns=\"http://www.w3.org/2000/svg\" height=\"24px\"viewBox=\"0 0 24 24\"\n",
              "       width=\"24px\">\n",
              "    <path d=\"M0 0h24v24H0V0z\" fill=\"none\"/>\n",
              "    <path d=\"M18.56 5.44l.94 2.06.94-2.06 2.06-.94-2.06-.94-.94-2.06-.94 2.06-2.06.94zm-11 1L8.5 8.5l.94-2.06 2.06-.94-2.06-.94L8.5 2.5l-.94 2.06-2.06.94zm10 10l.94 2.06.94-2.06 2.06-.94-2.06-.94-.94-2.06-.94 2.06-2.06.94z\"/><path d=\"M17.41 7.96l-1.37-1.37c-.4-.4-.92-.59-1.43-.59-.52 0-1.04.2-1.43.59L10.3 9.45l-7.72 7.72c-.78.78-.78 2.05 0 2.83L4 21.41c.39.39.9.59 1.41.59.51 0 1.02-.2 1.41-.59l7.78-7.78 2.81-2.81c.8-.78.8-2.07 0-2.86zM5.41 20L4 18.59l7.72-7.72 1.47 1.35L5.41 20z\"/>\n",
              "  </svg>\n",
              "      </button>\n",
              "\n",
              "\n",
              "\n",
              "    <div id=\"df-1f2ebab2-2c76-4c01-b0b2-afa3465866bc\">\n",
              "      <button class=\"colab-df-quickchart\" onclick=\"quickchart('df-1f2ebab2-2c76-4c01-b0b2-afa3465866bc')\"\n",
              "              title=\"Suggest charts.\"\n",
              "              style=\"display:none;\">\n",
              "\n",
              "<svg xmlns=\"http://www.w3.org/2000/svg\" height=\"24px\"viewBox=\"0 0 24 24\"\n",
              "     width=\"24px\">\n",
              "    <g>\n",
              "        <path d=\"M19 3H5c-1.1 0-2 .9-2 2v14c0 1.1.9 2 2 2h14c1.1 0 2-.9 2-2V5c0-1.1-.9-2-2-2zM9 17H7v-7h2v7zm4 0h-2V7h2v10zm4 0h-2v-4h2v4z\"/>\n",
              "    </g>\n",
              "</svg>\n",
              "      </button>\n",
              "    </div>\n",
              "\n",
              "<style>\n",
              "  .colab-df-quickchart {\n",
              "    background-color: #E8F0FE;\n",
              "    border: none;\n",
              "    border-radius: 50%;\n",
              "    cursor: pointer;\n",
              "    display: none;\n",
              "    fill: #1967D2;\n",
              "    height: 32px;\n",
              "    padding: 0 0 0 0;\n",
              "    width: 32px;\n",
              "  }\n",
              "\n",
              "  .colab-df-quickchart:hover {\n",
              "    background-color: #E2EBFA;\n",
              "    box-shadow: 0px 1px 2px rgba(60, 64, 67, 0.3), 0px 1px 3px 1px rgba(60, 64, 67, 0.15);\n",
              "    fill: #174EA6;\n",
              "  }\n",
              "\n",
              "  [theme=dark] .colab-df-quickchart {\n",
              "    background-color: #3B4455;\n",
              "    fill: #D2E3FC;\n",
              "  }\n",
              "\n",
              "  [theme=dark] .colab-df-quickchart:hover {\n",
              "    background-color: #434B5C;\n",
              "    box-shadow: 0px 1px 3px 1px rgba(0, 0, 0, 0.15);\n",
              "    filter: drop-shadow(0px 1px 2px rgba(0, 0, 0, 0.3));\n",
              "    fill: #FFFFFF;\n",
              "  }\n",
              "</style>\n",
              "\n",
              "    <script>\n",
              "      async function quickchart(key) {\n",
              "        const containerElement = document.querySelector('#' + key);\n",
              "        const charts = await google.colab.kernel.invokeFunction(\n",
              "            'suggestCharts', [key], {});\n",
              "      }\n",
              "    </script>\n",
              "\n",
              "      <script>\n",
              "\n",
              "function displayQuickchartButton(domScope) {\n",
              "  let quickchartButtonEl =\n",
              "    domScope.querySelector('#df-1f2ebab2-2c76-4c01-b0b2-afa3465866bc button.colab-df-quickchart');\n",
              "  quickchartButtonEl.style.display =\n",
              "    google.colab.kernel.accessAllowed ? 'block' : 'none';\n",
              "}\n",
              "\n",
              "        displayQuickchartButton(document);\n",
              "      </script>\n",
              "      <style>\n",
              "    .colab-df-container {\n",
              "      display:flex;\n",
              "      flex-wrap:wrap;\n",
              "      gap: 12px;\n",
              "    }\n",
              "\n",
              "    .colab-df-convert {\n",
              "      background-color: #E8F0FE;\n",
              "      border: none;\n",
              "      border-radius: 50%;\n",
              "      cursor: pointer;\n",
              "      display: none;\n",
              "      fill: #1967D2;\n",
              "      height: 32px;\n",
              "      padding: 0 0 0 0;\n",
              "      width: 32px;\n",
              "    }\n",
              "\n",
              "    .colab-df-convert:hover {\n",
              "      background-color: #E2EBFA;\n",
              "      box-shadow: 0px 1px 2px rgba(60, 64, 67, 0.3), 0px 1px 3px 1px rgba(60, 64, 67, 0.15);\n",
              "      fill: #174EA6;\n",
              "    }\n",
              "\n",
              "    [theme=dark] .colab-df-convert {\n",
              "      background-color: #3B4455;\n",
              "      fill: #D2E3FC;\n",
              "    }\n",
              "\n",
              "    [theme=dark] .colab-df-convert:hover {\n",
              "      background-color: #434B5C;\n",
              "      box-shadow: 0px 1px 3px 1px rgba(0, 0, 0, 0.15);\n",
              "      filter: drop-shadow(0px 1px 2px rgba(0, 0, 0, 0.3));\n",
              "      fill: #FFFFFF;\n",
              "    }\n",
              "  </style>\n",
              "\n",
              "      <script>\n",
              "        const buttonEl =\n",
              "          document.querySelector('#df-a7d069b4-5518-440f-864d-678d24847b0c button.colab-df-convert');\n",
              "        buttonEl.style.display =\n",
              "          google.colab.kernel.accessAllowed ? 'block' : 'none';\n",
              "\n",
              "        async function convertToInteractive(key) {\n",
              "          const element = document.querySelector('#df-a7d069b4-5518-440f-864d-678d24847b0c');\n",
              "          const dataTable =\n",
              "            await google.colab.kernel.invokeFunction('convertToInteractive',\n",
              "                                                     [key], {});\n",
              "          if (!dataTable) return;\n",
              "\n",
              "          const docLinkHtml = 'Like what you see? Visit the ' +\n",
              "            '<a target=\"_blank\" href=https://colab.research.google.com/notebooks/data_table.ipynb>data table notebook</a>'\n",
              "            + ' to learn more about interactive tables.';\n",
              "          element.innerHTML = '';\n",
              "          dataTable['output_type'] = 'display_data';\n",
              "          await google.colab.output.renderOutput(dataTable, element);\n",
              "          const docLink = document.createElement('div');\n",
              "          docLink.innerHTML = docLinkHtml;\n",
              "          element.appendChild(docLink);\n",
              "        }\n",
              "      </script>\n",
              "    </div>\n",
              "  </div>\n"
            ]
          },
          "metadata": {},
          "execution_count": 21
        }
      ]
    },
    {
      "cell_type": "markdown",
      "source": [
        "Polars медленне, чем Pandas, в 10 раз."
      ],
      "metadata": {
        "id": "EpKtJzHyCV6H"
      }
    }
  ]
}
